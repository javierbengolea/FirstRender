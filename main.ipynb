{
 "cells": [
  {
   "cell_type": "code",
   "execution_count": 9,
   "metadata": {},
   "outputs": [
    {
     "name": "stdout",
     "output_type": "stream",
     "text": [
      "<class 'pandas.core.frame.DataFrame'>\n",
      "RangeIndex: 8239 entries, 0 to 8238\n",
      "Data columns (total 2 columns):\n",
      " #   Column     Non-Null Count  Dtype \n",
      "---  ------     --------------  ----- \n",
      " 0   publisher  8236 non-null   object\n",
      " 1   count      8239 non-null   int64 \n",
      "dtypes: int64(1), object(1)\n",
      "memory usage: 128.9+ KB\n",
      "None\n"
     ]
    },
    {
     "data": {
      "text/plain": [
       "[{'publisher': 'Ubisoft', 'count': 385},\n",
       " {'publisher': 'Dovetail Games - Trains', 'count': 360},\n",
       " {'publisher': 'Degica', 'count': 286},\n",
       " {'publisher': 'Paradox Interactive', 'count': 271},\n",
       " {'publisher': 'SEGA', 'count': 251},\n",
       " {'publisher': 'Dovetail Games - Flight', 'count': 220},\n",
       " {'publisher': 'KOEI TECMO GAMES CO., LTD.', 'count': 208},\n",
       " {'publisher': 'Activision', 'count': 202},\n",
       " {'publisher': 'Big Fish Games', 'count': 195},\n",
       " {'publisher': 'KISS ltd', 'count': 189}]"
      ]
     },
     "execution_count": 9,
     "metadata": {},
     "output_type": "execute_result"
    }
   ],
   "source": [
    "import pandas as pd\n",
    "\n",
    "pb = pd.read_csv('publishers.csv')\n",
    "\n",
    "print(pb.info())\n",
    "\n",
    "pb.iloc[:10,:].to_dict(orient='records')"
   ]
  }
 ],
 "metadata": {
  "kernelspec": {
   "display_name": ".venv",
   "language": "python",
   "name": "python3"
  },
  "language_info": {
   "codemirror_mode": {
    "name": "ipython",
    "version": 3
   },
   "file_extension": ".py",
   "mimetype": "text/x-python",
   "name": "python",
   "nbconvert_exporter": "python",
   "pygments_lexer": "ipython3",
   "version": "3.12.1"
  }
 },
 "nbformat": 4,
 "nbformat_minor": 2
}
